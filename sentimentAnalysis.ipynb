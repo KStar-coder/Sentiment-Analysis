{
 "cells": [
  {
   "cell_type": "code",
   "execution_count": 15,
   "id": "922b386d",
   "metadata": {},
   "outputs": [
    {
     "name": "stdout",
     "output_type": "stream",
     "text": [
      "helloWorld\n"
     ]
    }
   ],
   "source": [
    "print (\"helloWorld\")"
   ]
  },
  {
   "cell_type": "code",
   "execution_count": 2,
   "id": "492f2b90",
   "metadata": {},
   "outputs": [],
   "source": [
    "import string\n",
    "from collections import Counter # count the number of emotions from the text\n",
    "import matplotlib.pyplot as plt # library to plot graph"
   ]
  },
  {
   "cell_type": "code",
   "execution_count": 3,
   "id": "3b0bc256",
   "metadata": {},
   "outputs": [],
   "source": [
    "text = open (\"read.txt\", encoding = 'utf-8').read()"
   ]
  },
  {
   "cell_type": "code",
   "execution_count": 4,
   "id": "6147cce2",
   "metadata": {},
   "outputs": [
    {
     "data": {
      "text/plain": [
       "\"Crawling in my skin these wounds they will not heal. I've becoome so numb, I can't see you there. I've become so tired, so much more of this . By becoming this all I want you to is be more like me and be less like you. I have aids. Against my will I stand beside my own reflection. It's haunting and I can't believe it. I am unbroken. I'm choking on this ecstacy. Unbreak me. Unchain me. I need another chance to leave. The sand is singing deathless words to me.\""
      ]
     },
     "execution_count": 4,
     "metadata": {},
     "output_type": "execute_result"
    }
   ],
   "source": [
    "text"
   ]
  },
  {
   "cell_type": "markdown",
   "id": "6b4eaa72",
   "metadata": {},
   "source": [
    "# Preprocessing the text"
   ]
  },
  {
   "cell_type": "code",
   "execution_count": 5,
   "id": "a22da182",
   "metadata": {},
   "outputs": [
    {
     "data": {
      "text/plain": [
       "\"crawling in my skin these wounds they will not heal. i've becoome so numb, i can't see you there. i've become so tired, so much more of this . by becoming this all i want you to is be more like me and be less like you. i have aids. against my will i stand beside my own reflection. it's haunting and i can't believe it. i am unbroken. i'm choking on this ecstacy. unbreak me. unchain me. i need another chance to leave. the sand is singing deathless words to me.\""
      ]
     },
     "execution_count": 5,
     "metadata": {},
     "output_type": "execute_result"
    }
   ],
   "source": [
    "# first we convert all the characters to either upper / lower. As our file emotions.txt has all lower cases \n",
    "# so here we will convert it to lower case \n",
    "\n",
    "lower_case = text.lower()\n",
    "lower_case"
   ]
  },
  {
   "cell_type": "code",
   "execution_count": 6,
   "id": "d87ef18c",
   "metadata": {},
   "outputs": [
    {
     "data": {
      "text/plain": [
       "'crawling in my skin these wounds they will not heal ive becoome so numb i cant see you there ive become so tired so much more of this  by becoming this all i want you to is be more like me and be less like you i have aids against my will i stand beside my own reflection its haunting and i cant believe it i am unbroken im choking on this ecstacy unbreak me unchain me i need another chance to leave the sand is singing deathless words to me'"
      ]
     },
     "execution_count": 6,
     "metadata": {},
     "output_type": "execute_result"
    }
   ],
   "source": [
    "# removing punctuation as it is not needed for sentiment analysis \n",
    "# maketrans replace the punctuation with empty character (\"\").\n",
    "\n",
    "clean_text = lower_case.translate (str.maketrans(\"\",\"\",string.punctuation)) # \"\", \"\" contain the original text with the replaced text \n",
    "# Here, we are not replacing anything in our string so we leve them empty\n",
    "# eg: we could change the word \"crawling\", with \"lurking\"\n",
    "clean_text"
   ]
  },
  {
   "cell_type": "code",
   "execution_count": 7,
   "id": "fc76c01b",
   "metadata": {},
   "outputs": [
    {
     "data": {
      "text/plain": [
       "['crawling',\n",
       " 'in',\n",
       " 'my',\n",
       " 'skin',\n",
       " 'these',\n",
       " 'wounds',\n",
       " 'they',\n",
       " 'will',\n",
       " 'not',\n",
       " 'heal',\n",
       " 'ive',\n",
       " 'becoome',\n",
       " 'so',\n",
       " 'numb',\n",
       " 'i',\n",
       " 'cant',\n",
       " 'see',\n",
       " 'you',\n",
       " 'there',\n",
       " 'ive',\n",
       " 'become',\n",
       " 'so',\n",
       " 'tired',\n",
       " 'so',\n",
       " 'much',\n",
       " 'more',\n",
       " 'of',\n",
       " 'this',\n",
       " 'by',\n",
       " 'becoming',\n",
       " 'this',\n",
       " 'all',\n",
       " 'i',\n",
       " 'want',\n",
       " 'you',\n",
       " 'to',\n",
       " 'is',\n",
       " 'be',\n",
       " 'more',\n",
       " 'like',\n",
       " 'me',\n",
       " 'and',\n",
       " 'be',\n",
       " 'less',\n",
       " 'like',\n",
       " 'you',\n",
       " 'i',\n",
       " 'have',\n",
       " 'aids',\n",
       " 'against',\n",
       " 'my',\n",
       " 'will',\n",
       " 'i',\n",
       " 'stand',\n",
       " 'beside',\n",
       " 'my',\n",
       " 'own',\n",
       " 'reflection',\n",
       " 'its',\n",
       " 'haunting',\n",
       " 'and',\n",
       " 'i',\n",
       " 'cant',\n",
       " 'believe',\n",
       " 'it',\n",
       " 'i',\n",
       " 'am',\n",
       " 'unbroken',\n",
       " 'im',\n",
       " 'choking',\n",
       " 'on',\n",
       " 'this',\n",
       " 'ecstacy',\n",
       " 'unbreak',\n",
       " 'me',\n",
       " 'unchain',\n",
       " 'me',\n",
       " 'i',\n",
       " 'need',\n",
       " 'another',\n",
       " 'chance',\n",
       " 'to',\n",
       " 'leave',\n",
       " 'the',\n",
       " 'sand',\n",
       " 'is',\n",
       " 'singing',\n",
       " 'deathless',\n",
       " 'words',\n",
       " 'to',\n",
       " 'me']"
      ]
     },
     "execution_count": 7,
     "metadata": {},
     "output_type": "execute_result"
    }
   ],
   "source": [
    "# Tokenization \n",
    "tokenized_words = clean_text.split()\n",
    "tokenized_words"
   ]
  },
  {
   "cell_type": "code",
   "execution_count": 8,
   "id": "9627daa1",
   "metadata": {},
   "outputs": [
    {
     "data": {
      "text/plain": [
       "['i',\n",
       " 'me',\n",
       " 'my',\n",
       " 'myself',\n",
       " 'we',\n",
       " 'our',\n",
       " 'ours',\n",
       " 'ourselves',\n",
       " 'you',\n",
       " 'your',\n",
       " 'yours',\n",
       " 'yourself',\n",
       " 'yourselves',\n",
       " 'he',\n",
       " 'him',\n",
       " 'his',\n",
       " 'himself',\n",
       " 'she',\n",
       " 'her',\n",
       " 'hers',\n",
       " 'herself',\n",
       " 'it',\n",
       " 'its',\n",
       " 'itself',\n",
       " 'they',\n",
       " 'them',\n",
       " 'their',\n",
       " 'theirs',\n",
       " 'themselves',\n",
       " 'what',\n",
       " 'which',\n",
       " 'who',\n",
       " 'whom',\n",
       " 'this',\n",
       " 'that',\n",
       " 'these',\n",
       " 'those',\n",
       " 'am',\n",
       " 'is',\n",
       " 'are',\n",
       " 'was',\n",
       " 'were',\n",
       " 'be',\n",
       " 'been',\n",
       " 'being',\n",
       " 'have',\n",
       " 'has',\n",
       " 'had',\n",
       " 'having',\n",
       " 'do',\n",
       " 'does',\n",
       " 'did',\n",
       " 'doing',\n",
       " 'a',\n",
       " 'an',\n",
       " 'the',\n",
       " 'and',\n",
       " 'but',\n",
       " 'if',\n",
       " 'or',\n",
       " 'because',\n",
       " 'as',\n",
       " 'until',\n",
       " 'while',\n",
       " 'of',\n",
       " 'at',\n",
       " 'by',\n",
       " 'for',\n",
       " 'with',\n",
       " 'about',\n",
       " 'against',\n",
       " 'between',\n",
       " 'into',\n",
       " 'through',\n",
       " 'during',\n",
       " 'before',\n",
       " 'after',\n",
       " 'above',\n",
       " 'below',\n",
       " 'to',\n",
       " 'from',\n",
       " 'up',\n",
       " 'down',\n",
       " 'in',\n",
       " 'out',\n",
       " 'on',\n",
       " 'off',\n",
       " 'over',\n",
       " 'under',\n",
       " 'again',\n",
       " 'further',\n",
       " 'then',\n",
       " 'once',\n",
       " 'here',\n",
       " 'there',\n",
       " 'when',\n",
       " 'where',\n",
       " 'why',\n",
       " 'how',\n",
       " 'all',\n",
       " 'any',\n",
       " 'both',\n",
       " 'each',\n",
       " 'few',\n",
       " 'more',\n",
       " 'most',\n",
       " 'other',\n",
       " 'some',\n",
       " 'such',\n",
       " 'no',\n",
       " 'nor',\n",
       " 'not',\n",
       " 'only',\n",
       " 'own',\n",
       " 'same',\n",
       " 'so',\n",
       " 'than',\n",
       " 'too',\n",
       " 'very',\n",
       " 's',\n",
       " 't',\n",
       " 'can',\n",
       " 'will',\n",
       " 'just',\n",
       " 'don',\n",
       " 'should',\n",
       " 'now']"
      ]
     },
     "execution_count": 8,
     "metadata": {},
     "output_type": "execute_result"
    }
   ],
   "source": [
    "stopwords = [\"i\", \"me\", \"my\", \"myself\", \"we\", \"our\", \"ours\", \"ourselves\", \"you\", \"your\", \"yours\", \"yourself\",\n",
    "              \"yourselves\", \"he\", \"him\", \"his\", \"himself\", \"she\", \"her\", \"hers\", \"herself\", \"it\", \"its\", \"itself\",\n",
    "              \"they\", \"them\", \"their\", \"theirs\", \"themselves\", \"what\", \"which\", \"who\", \"whom\", \"this\", \"that\", \"these\",\n",
    "              \"those\", \"am\", \"is\", \"are\", \"was\", \"were\", \"be\", \"been\", \"being\", \"have\", \"has\", \"had\", \"having\", \"do\",\n",
    "              \"does\", \"did\", \"doing\", \"a\", \"an\", \"the\", \"and\", \"but\", \"if\", \"or\", \"because\", \"as\", \"until\", \"while\",\n",
    "              \"of\", \"at\", \"by\", \"for\", \"with\", \"about\", \"against\", \"between\", \"into\", \"through\", \"during\", \"before\",\n",
    "              \"after\", \"above\", \"below\", \"to\", \"from\", \"up\", \"down\", \"in\", \"out\", \"on\", \"off\", \"over\", \"under\", \"again\",\n",
    "              \"further\", \"then\", \"once\", \"here\", \"there\", \"when\", \"where\", \"why\", \"how\", \"all\", \"any\", \"both\", \"each\",\n",
    "              \"few\", \"more\", \"most\", \"other\", \"some\", \"such\", \"no\", \"nor\", \"not\", \"only\", \"own\", \"same\", \"so\", \"than\",\n",
    "              \"too\", \"very\", \"s\", \"t\", \"can\", \"will\", \"just\", \"don\", \"should\", \"now\"]\n",
    "stopwords"
   ]
  },
  {
   "cell_type": "markdown",
   "id": "5257931a",
   "metadata": {},
   "source": [
    "# Removing stop words"
   ]
  },
  {
   "cell_type": "code",
   "execution_count": 9,
   "id": "a1739ff0",
   "metadata": {},
   "outputs": [
    {
     "data": {
      "text/plain": [
       "['crawling',\n",
       " 'skin',\n",
       " 'wounds',\n",
       " 'heal',\n",
       " 'ive',\n",
       " 'becoome',\n",
       " 'numb',\n",
       " 'cant',\n",
       " 'see',\n",
       " 'ive',\n",
       " 'become',\n",
       " 'tired',\n",
       " 'much',\n",
       " 'becoming',\n",
       " 'want',\n",
       " 'like',\n",
       " 'less',\n",
       " 'like',\n",
       " 'aids',\n",
       " 'stand',\n",
       " 'beside',\n",
       " 'reflection',\n",
       " 'haunting',\n",
       " 'cant',\n",
       " 'believe',\n",
       " 'unbroken',\n",
       " 'im',\n",
       " 'choking',\n",
       " 'ecstacy',\n",
       " 'unbreak',\n",
       " 'unchain',\n",
       " 'need',\n",
       " 'another',\n",
       " 'chance',\n",
       " 'leave',\n",
       " 'sand',\n",
       " 'singing',\n",
       " 'deathless',\n",
       " 'words']"
      ]
     },
     "execution_count": 9,
     "metadata": {},
     "output_type": "execute_result"
    }
   ],
   "source": [
    "final_words = []\n",
    "for i in tokenized_words:\n",
    "    if i not in stopwords:\n",
    "        final_words.append(i)\n",
    "final_words"
   ]
  },
  {
   "cell_type": "code",
   "execution_count": 10,
   "id": "88e735e6",
   "metadata": {},
   "outputs": [
    {
     "name": "stdout",
     "output_type": "stream",
     "text": [
      "[' apathetic']\n"
     ]
    }
   ],
   "source": [
    "emotions_list = []\n",
    "\n",
    "with open (\"emotion.txt\") as file : # opening emotions.txt as a file \n",
    "    for line in file: # line is a pointer variable to the file\n",
    "        clear_line = line.replace(\"\\n\",'').replace(\",\",\"\").replace(\"'\",\"\").strip() # strip is used for removing the white spaces \n",
    "        word,emotion = clear_line.split(\":\") # split the key (:) value . Splitting on the basis of : . #pythonPower \n",
    "        if word in final_words:\n",
    "            emotions_list.append(emotion)\n",
    "\n",
    "print (emotions_list)"
   ]
  },
  {
   "cell_type": "code",
   "execution_count": 11,
   "id": "15052034",
   "metadata": {},
   "outputs": [
    {
     "data": {
      "text/plain": [
       "Counter({' apathetic': 1})"
      ]
     },
     "execution_count": 11,
     "metadata": {},
     "output_type": "execute_result"
    }
   ],
   "source": [
    "w = Counter (emotions_list)\n",
    "w"
   ]
  },
  {
   "cell_type": "code",
   "execution_count": 12,
   "id": "a1d4569d",
   "metadata": {
    "scrolled": true
   },
   "outputs": [
    {
     "data": {
      "image/png": "[encoded data removed]",
      "text/plain": [
       "<Figure size 640x480 with 1 Axes>"
      ]
     },
     "metadata": {},
     "output_type": "display_data"
    }
   ],
   "source": [
    "fig,ax1 = plt.subplots()\n",
    "ax1.bar(w.keys(),w.values())\n",
    "plt.show()"
   ]
  },
  {
   "cell_type": "code",
   "execution_count": 13,
   "id": "a0ae6cb8",
   "metadata": {},
   "outputs": [
    {
     "name": "stderr",
     "output_type": "stream",
     "text": [
      "[nltk_data] Downloading package vader_lexicon to\n",
      "[nltk_data]     /home/kaustavsharma/nltk_data...\n",
      "[nltk_data]   Package vader_lexicon is already up-to-date!\n"
     ]
    }
   ],
   "source": [
    "import nltk\n",
    "nltk.download ('vader_lexicon')\n",
    "from nltk.sentiment.vader import SentimentIntensityAnalyzer"
   ]
  },
  {
   "cell_type": "code",
   "execution_count": 1,
   "id": "00ef308d",
   "metadata": {},
   "outputs": [
    {
     "ename": "NameError",
     "evalue": "name 'final_words' is not defined",
     "output_type": "error",
     "traceback": [
      "\u001b[0;31m---------------------------------------------------------------------------\u001b[0m",
      "\u001b[0;31mNameError\u001b[0m                                 Traceback (most recent call last)",
      "\u001b[0;32m/tmp/ipykernel_7770/4182798999.py\u001b[0m in \u001b[0;36m<module>\u001b[0;34m\u001b[0m\n\u001b[1;32m     11\u001b[0m     \u001b[0;32melse\u001b[0m\u001b[0;34m:\u001b[0m\u001b[0;34m\u001b[0m\u001b[0;34m\u001b[0m\u001b[0m\n\u001b[1;32m     12\u001b[0m         \u001b[0mprint\u001b[0m \u001b[0;34m(\u001b[0m\u001b[0;34m\"Normal \"\u001b[0m\u001b[0;34m)\u001b[0m\u001b[0;34m\u001b[0m\u001b[0;34m\u001b[0m\u001b[0m\n\u001b[0;32m---> 13\u001b[0;31m \u001b[0msentiment_analyze\u001b[0m\u001b[0;34m(\u001b[0m\u001b[0mfinal_words\u001b[0m\u001b[0;34m)\u001b[0m\u001b[0;34m\u001b[0m\u001b[0;34m\u001b[0m\u001b[0m\n\u001b[0m",
      "\u001b[0;31mNameError\u001b[0m: name 'final_words' is not defined"
     ]
    }
   ],
   "source": [
    "def sentiment_analyze(senti_text):\n",
    "    score = SentimentIntensityAnalyzer().polarity_scores(clean_text)\n",
    "    neg = score['neg']\n",
    "    pos = score['pos']\n",
    "    \n",
    "    print (score)\n",
    "    if pos>neg:\n",
    "        print (\"Happy \")\n",
    "    elif pos <neg:\n",
    "        print (\"Sad \")\n",
    "    else:\n",
    "        print (\"Normal \")\n",
    "sentiment_analyze(final_words)"
   ]
  },
  {
   "cell_type": "code",
   "execution_count": null,
   "id": "4ecc8b7f",
   "metadata": {},
   "outputs": [],
   "source": [
    "y =  df ['']"
   ]
  }
 ],
 "metadata": {
  "kernelspec": {
   "display_name": "Python 3 (ipykernel)",
   "language": "python",
   "name": "python3"
  },
  "language_info": {
   "codemirror_mode": {
    "name": "ipython",
    "version": 3
   },
   "file_extension": ".py",
   "mimetype": "text/x-python",
   "name": "python",
   "nbconvert_exporter": "python",
   "pygments_lexer": "ipython3",
   "version": "3.9.13"
  }
 },
 "nbformat": 4,
 "nbformat_minor": 5
}
